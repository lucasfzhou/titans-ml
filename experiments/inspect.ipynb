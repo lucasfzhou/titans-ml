{
 "cells": [
  {
   "cell_type": "code",
   "execution_count": null,
   "id": "7aebc717-347b-44c4-aa10-e216745546fe",
   "metadata": {},
   "outputs": [],
   "source": [
    "from pprint import pprint\n",
    "\n",
    "import tensorflow as tf\n",
    "import wandb"
   ]
  },
  {
   "cell_type": "code",
   "execution_count": null,
   "id": "6b2a4ca9-2369-42f3-82c6-f980a4434eec",
   "metadata": {},
   "outputs": [],
   "source": [
    "# the run to load the trained model from\n",
    "RUN_ID = \"<GET FROM WANDB DASHBOARD>\"\n",
    "\n",
    "api = wandb.Api()\n",
    "run = api.run(path=f\"prodml_2022/imagenet_v2/{RUN_ID}\")\n",
    "pprint(run.config)"
   ]
  },
  {
   "cell_type": "code",
   "execution_count": null,
   "id": "0e1ccdb9-32cc-428a-97b6-e4dfa2deecd6",
   "metadata": {},
   "outputs": [],
   "source": [
    "model_dir = run.logged_artifacts()[0].download()\n",
    "model = tf.keras.models.load_model(model_dir)\n",
    "model.summary()"
   ]
  },
  {
   "cell_type": "code",
   "execution_count": null,
   "id": "0759de2f-c5c7-48ef-b27a-13ecdffc5bbb",
   "metadata": {},
   "outputs": [],
   "source": [
    "# TODO perform custom analysis here"
   ]
  }
 ],
 "metadata": {
  "kernelspec": {
   "display_name": "Python 3 (ipykernel)",
   "language": "python",
   "name": "python3"
  },
  "language_info": {
   "codemirror_mode": {
    "name": "ipython",
    "version": 3
   },
   "file_extension": ".py",
   "mimetype": "text/x-python",
   "name": "python",
   "nbconvert_exporter": "python",
   "pygments_lexer": "ipython3",
   "version": "3.10.5"
  }
 },
 "nbformat": 4,
 "nbformat_minor": 5
}
